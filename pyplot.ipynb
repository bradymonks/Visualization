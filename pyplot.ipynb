{
 "cells": [
  {
   "cell_type": "markdown",
   "metadata": {},
   "source": [
    "# Web Mining and Applied NLP (44-620)\n",
    "\n",
    "## Matplotlib and pyplot\n",
    "\n",
    "### Student Name: Brady Monks\n",
    "### GitHub link: https://github.com/bradymonks/Visualization \n",
    "\n",
    "Perform the tasks described in the Markdown cells below.  When you have completed the assignment make sure your code cells have all been run (and have output beneath them) and ensure you have committed and pushed ALL of your changes to your assignment repository.\n",
    "\n",
    "Every question that requires you to write code will have a code cell underneath it; you may either write your entire solution in that cell or write it in a python file (`.py`), then import and run the appropriate code to answer the question.\n",
    "\n",
    "Do not use other external modules except `matplotlib` and `pyplot` (e.g. `math`, etc) for this assignment unless you are explicitly instructed to, though you may use built in python functions (`min`, `max`, etc) as you wish.\n",
    "\n",
    "For all of these questions, your plots must have an appropriate title and labeled axes.  Use the Matplotlib documentation as necessary to guide you through these exercises."
   ]
  },
  {
   "cell_type": "markdown",
   "metadata": {},
   "source": [
    "### Question 1"
   ]
  },
  {
   "cell_type": "markdown",
   "metadata": {},
   "source": [
    "1. Given the text below, create a bar plot (or a horizontal bar plot) that shows the frequency distribution of characters in the string. \n",
    "A dictionary has been created for you containing the characters and the frequencies of the characters.\n",
    "Make sure your bar plot has the bars labelled correctly (with the character it represents the frequency of).\n"
   ]
  },
  {
   "cell_type": "code",
   "execution_count": 1,
   "metadata": {},
   "outputs": [
    {
     "data": {
      "text/plain": [
       "{'a': 62,\n",
       " 't': 83,\n",
       " ' ': 181,\n",
       " 'h': 61,\n",
       " 'r': 45,\n",
       " 'e': 105,\n",
       " 'o': 53,\n",
       " '’': 2,\n",
       " 'c': 25,\n",
       " 'l': 26,\n",
       " 'k': 6,\n",
       " 'p': 6,\n",
       " 'i': 72,\n",
       " 's': 55,\n",
       " 'y': 18,\n",
       " 'w': 21,\n",
       " 'b': 10,\n",
       " ',': 15,\n",
       " 'u': 17,\n",
       " 'm': 20,\n",
       " 'd': 36,\n",
       " 'n': 49,\n",
       " '.': 6,\n",
       " 'f': 19,\n",
       " 'g': 15,\n",
       " 'v': 8,\n",
       " 'q': 2,\n",
       " 'x': 2}"
      ]
     },
     "execution_count": 1,
     "metadata": {},
     "output_type": "execute_result"
    }
   ],
   "source": [
    "from collections import Counter\n",
    "TEXT = \"At three o’clock precisely I was at Baker Street, but Holmes had not yet returned. The landlady informed me that he had left the house shortly after eight o’clock in the morning. I sat down beside the fire, however, with the intention of awaiting him, however long he might be. I was already deeply interested in his inquiry, for, though it was surrounded by none of the grim and strange features which were associated with the two crimes which I have already recorded, still, the nature of the case and the exalted station of his client gave it a character of its own. Indeed, apart from the nature of the investigation which my friend had on hand, there was something in his masterly grasp of a situation, and his keen, incisive reasoning, which made it a pleasure to me to study his system of work, and to follow the quick, subtle methods by which he disentangled the most inextricable mysteries. So accustomed was I to his invariable success that the very possibility of his failing had ceased to enter into my head.\".lower()\n",
    "letter_freq = dict(Counter(TEXT))\n",
    "# make a bar plot with an appropriate title, correct xtick labels, and labeled axes\n",
    "letter_freq"
   ]
  },
  {
   "cell_type": "code",
   "execution_count": 2,
   "metadata": {},
   "outputs": [],
   "source": [
    "import matplotlib\n",
    "import matplotlib.pyplot as plt\n",
    "import numpy as np"
   ]
  },
  {
   "cell_type": "code",
   "execution_count": 3,
   "metadata": {},
   "outputs": [],
   "source": [
    "letter = list(letter_freq.keys())\n",
    "count = list(letter_freq.values())"
   ]
  },
  {
   "cell_type": "code",
   "execution_count": 4,
   "metadata": {},
   "outputs": [
    {
     "data": {
      "text/plain": [
       "Text(0, 0.5, 'Letter')"
      ]
     },
     "execution_count": 4,
     "metadata": {},
     "output_type": "execute_result"
    },
    {
     "data": {
      "image/png": "[encoded data removed]",
      "text/plain": [
       "<Figure size 432x288 with 1 Axes>"
      ]
     },
     "metadata": {
      "needs_background": "light"
     },
     "output_type": "display_data"
    }
   ],
   "source": [
    "plt.barh(letter,count)\n",
    "plt.title(\"Letter Count\")\n",
    "plt.xlabel(\"Count\")\n",
    "plt.ylabel(\"Letter\")"
   ]
  },
  {
   "cell_type": "markdown",
   "metadata": {},
   "source": [
    "## Question 2\n",
    "\n",
    "2. Generate a sequence of at least 5 random numbers (integers are fine), and visualize the data using both `scatter` and `plot` on different axes.  You may use the index of the value as its x value in the plot."
   ]
  },
  {
   "cell_type": "code",
   "execution_count": 5,
   "metadata": {},
   "outputs": [
    {
     "name": "stdout",
     "output_type": "stream",
     "text": [
      "[10, 8, 1, 2, 9]\n"
     ]
    },
    {
     "data": {
      "text/plain": [
       "([<matplotlib.axis.XTick at 0x20562da2610>,\n",
       "  <matplotlib.axis.XTick at 0x20562da25e0>,\n",
       "  <matplotlib.axis.XTick at 0x20562d9e190>,\n",
       "  <matplotlib.axis.XTick at 0x20562dd7430>,\n",
       "  <matplotlib.axis.XTick at 0x20562dd7940>],\n",
       " [Text(0, 0, ''),\n",
       "  Text(0, 0, ''),\n",
       "  Text(0, 0, ''),\n",
       "  Text(0, 0, ''),\n",
       "  Text(0, 0, '')])"
      ]
     },
     "execution_count": 5,
     "metadata": {},
     "output_type": "execute_result"
    },
    {
     "data": {
      "image/png": "[encoded data removed]",
      "text/plain": [
       "<Figure size 432x288 with 1 Axes>"
      ]
     },
     "metadata": {
      "needs_background": "light"
     },
     "output_type": "display_data"
    }
   ],
   "source": [
    "import random\n",
    "list = []\n",
    "for i in range(5):\n",
    "    n = random.randint(0,10)\n",
    "    list.append(n)\n",
    "print(list)\n",
    "list1 = [1,2,3,4,5]\n",
    "\n",
    "plt.scatter(list1,list)\n",
    "plt.plot(list1,list)\n",
    "plt.xticks([1,2,3,4,5])"
   ]
  },
  {
   "cell_type": "markdown",
   "metadata": {},
   "source": [
    "## Question 3\n",
    "3. Do the same question as above, but change the syle and color of both the scatter and the plot."
   ]
  },
  {
   "cell_type": "code",
   "execution_count": 6,
   "metadata": {},
   "outputs": [
    {
     "data": {
      "text/plain": [
       "<function matplotlib.pyplot.show(close=None, block=None)>"
      ]
     },
     "execution_count": 6,
     "metadata": {},
     "output_type": "execute_result"
    },
    {
     "data": {
      "image/png": "[encoded data removed]",
      "text/plain": [
       "<Figure size 432x288 with 1 Axes>"
      ]
     },
     "metadata": {
      "needs_background": "light"
     },
     "output_type": "display_data"
    }
   ],
   "source": [
    "plt.plot(list1,list,markersize = 23, color = 'green', linestyle = 'dashed')\n",
    "plt.scatter(list1,list, color = 'maroon', marker = \"*\")\n",
    "plt.xticks([1,2,3,4,5])\n",
    "plt.show"
   ]
  },
  {
   "cell_type": "markdown",
   "metadata": {},
   "source": [
    "## Question 4\n",
    "4. Given the data sets below, plot or scatter both on the same set of axes.  You are plotting the time it takes to execute a sorting algorithm on a list of a given size; your x axis should be the size, and the y axis is time.  Assume that `insertion_sort_times[i]` is how long it took to sort a list of length `sizes[i]`.  Add a legend to your plot showing which is insertion sort and which is merge sort.  Use the variable names to determine which data is which. "
   ]
  },
  {
   "cell_type": "code",
   "execution_count": 7,
   "metadata": {},
   "outputs": [],
   "source": [
    "sizes = [10, 20, 50, 100, 1000, 5000]\n",
    "insertion_sort_times = [0.0010252999999999998, 0.0027026999999999954, 0.010147200000000002, 0.0381137, 3.6303399, 91.2180796]\n",
    "merge_sort_times = [0.00161889999999687, 0.003635600000009731, 0.0090655000000055, 0.020108000000007564, 0.2687474000000094, 1.6147050999999948]"
   ]
  },
  {
   "cell_type": "code",
   "execution_count": 9,
   "metadata": {},
   "outputs": [
    {
     "data": {
      "text/plain": [
       "<matplotlib.legend.Legend at 0x20562ec4ac0>"
      ]
     },
     "execution_count": 9,
     "metadata": {},
     "output_type": "execute_result"
    },
    {
     "data": {
      "image/png": "[encoded data removed]",
      "text/plain": [
       "<Figure size 432x288 with 1 Axes>"
      ]
     },
     "metadata": {
      "needs_background": "light"
     },
     "output_type": "display_data"
    }
   ],
   "source": [
    "plt.plot(sizes,insertion_sort_times, label = 'Insertion')\n",
    "plt.plot(sizes,merge_sort_times, label = 'Merge')\n",
    "plt.legend(loc='upper left')"
   ]
  }
 ],
 "metadata": {
  "kernelspec": {
   "display_name": "Python 3",
   "language": "python",
   "name": "python3"
  },
  "language_info": {
   "codemirror_mode": {
    "name": "ipython",
    "version": 3
   },
   "file_extension": ".py",
   "mimetype": "text/x-python",
   "name": "python",
   "nbconvert_exporter": "python",
   "pygments_lexer": "ipython3",
   "version": "3.8.5"
  }
 },
 "nbformat": 4,
 "nbformat_minor": 4
}
